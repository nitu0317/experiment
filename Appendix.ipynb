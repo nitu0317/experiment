{
 "cells": [
  {
   "cell_type": "markdown",
   "id": "b61b0210-a314-4c47-bda7-c355606d8c67",
   "metadata": {},
   "source": [
    "# Setting\n",
    "\n",
    "We fix the groundtruth linear model with the following parameters:\n",
    "\n",
    "$\\alpha_0 = \\beta_0 = 0$, $\\alpha_1 = 0.2, \\beta_1 = 0.2$\n",
    "\n",
    "This implies that the optimal threshold is $-1.0$.\n",
    "\n",
    "We assume a Gaussian noise $\\mathcal{N}(0, 0.3)$ to the linear model.\n",
    "\n",
    "We then consider several scenarios of covariates distribution. "
   ]
  },
  {
   "cell_type": "markdown",
   "id": "fe335041-8e5d-4150-871d-eee78db087e0",
   "metadata": {},
   "source": [
    "## Scenario 1\n",
    "\n",
    "The population is on the left.\n",
    "\n",
    "We start from the covariates distribution $\\mathcal{N}(-1.5, 0.5)$, with $\\lambda = , \\gamma = $ "
   ]
  },
  {
   "cell_type": "code",
   "execution_count": 1,
   "id": "6fd2173e-31a5-4345-9c95-947c5f119b22",
   "metadata": {},
   "outputs": [],
   "source": [
    "ols = 0.00696443\n",
    "\n",
    "ridge = 0.00675162\n",
    "\n",
    "reg = 0.00711855"
   ]
  },
  {
   "cell_type": "code",
   "execution_count": null,
   "id": "c685c2e7-6921-45cc-8445-2bca3f1b82b7",
   "metadata": {},
   "outputs": [],
   "source": [
    "(0.00679082, nan, 0.00698945)"
   ]
  },
  {
   "cell_type": "markdown",
   "id": "f578b815-3273-4e84-9f2d-bf4fd8128348",
   "metadata": {},
   "source": [
    "We change the mean of the distribution"
   ]
  },
  {
   "cell_type": "code",
   "execution_count": null,
   "id": "6f3a11c6-1f2d-40a3-9494-6507f917f4c5",
   "metadata": {},
   "outputs": [],
   "source": []
  },
  {
   "cell_type": "markdown",
   "id": "fddd5e18-afbe-4bde-964d-8c65ec83ec4d",
   "metadata": {},
   "source": [
    "## Scenario 2\n",
    "\n",
    "The population is on the right.\n",
    "\n",
    "We start from the covariates distribution $\\mathcal{N}(-0.5, 0.5)$"
   ]
  },
  {
   "cell_type": "markdown",
   "id": "ffe4d58e-1d82-478c-86e5-b790c91cf504",
   "metadata": {},
   "source": [
    "## Scenario 3\n",
    "\n",
    "Half of the population is on the left, and the other is on the right.\n",
    "\n",
    "We start from the covariates distribution $\\mathcal{N}(-1.5, 0.5)$"
   ]
  },
  {
   "cell_type": "code",
   "execution_count": null,
   "id": "93d2113d-3193-48a9-9ed5-b7469dc346cd",
   "metadata": {},
   "outputs": [],
   "source": []
  }
 ],
 "metadata": {
  "kernelspec": {
   "display_name": "Python 3",
   "language": "python",
   "name": "python3"
  },
  "language_info": {
   "codemirror_mode": {
    "name": "ipython",
    "version": 3
   },
   "file_extension": ".py",
   "mimetype": "text/x-python",
   "name": "python",
   "nbconvert_exporter": "python",
   "pygments_lexer": "ipython3",
   "version": "3.8.8"
  }
 },
 "nbformat": 4,
 "nbformat_minor": 5
}
